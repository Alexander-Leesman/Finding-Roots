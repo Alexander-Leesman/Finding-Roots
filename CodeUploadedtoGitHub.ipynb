{
  "nbformat": 4,
  "nbformat_minor": 0,
  "metadata": {
    "colab": {
      "provenance": [],
      "authorship_tag": "ABX9TyO6hdqcrxRk3h8R+b6Svlww",
      "include_colab_link": true
    },
    "kernelspec": {
      "name": "python3",
      "display_name": "Python 3"
    },
    "language_info": {
      "name": "python"
    }
  },
  "cells": [
    {
      "cell_type": "markdown",
      "metadata": {
        "id": "view-in-github",
        "colab_type": "text"
      },
      "source": [
        "<a href=\"https://colab.research.google.com/github/Alexander-Leesman/Finding-Roots/blob/main/CodeUploadedtoGitHub.ipynb\" target=\"_parent\"><img src=\"https://colab.research.google.com/assets/colab-badge.svg\" alt=\"Open In Colab\"/></a>"
      ]
    },
    {
      "cell_type": "code",
      "execution_count": null,
      "metadata": {
        "id": "kyQpAYo6xf6E"
      },
      "outputs": [],
      "source": [
        "import math\n",
        "import numpy as np\n",
        "import matplotlib.pyplot as plt\n",
        "\n",
        "#User defined function.\n",
        "def f(x):\n",
        "  function = (x**3)-(7*x**2)+(14*x)-3    #Enter a function in place of the one here.\n",
        "  return function\n",
        "\n",
        "#Derivation of the user defined function.\n",
        "def df(x):\n",
        "  derivative = (3*x**2)-(14*x)+14        #Enter the derivative of the funtion above.\n",
        "  return derivative\n",
        "\n",
        "#Bisection Method\n",
        "#Input guesses of x values a and b as bia and bib and the convergence criterion epsilon.\n",
        "#Form (a,b,epsilon) or (b,a,epsilon).\n",
        "#Output x value of root a<=x<=b and number of iterations count.\n",
        "#Form (x,count).\n",
        "#Will stop if it loops bimax times without finding a root.\n",
        "def bisection(bia,bib,biepsilon):\n",
        "  bic = 0\n",
        "  biep = biepsilon\n",
        "  bicount = 0\n",
        "  bimax = 100              #Number of times looped without finding a root\n",
        "  #Determines if f(a) is within epsilon to 0.\n",
        "  while(abs(f(bia)) > biep and bicount < bimax):\n",
        "    #Determines if a or b is one of the roots.\n",
        "    #f(a) * f(b) is 0.\n",
        "    if(f(bib)*f(bia)==0):\n",
        "      if(f(bia)==0):\n",
        "        bia = bia\n",
        "      else:\n",
        "        bia = bib\n",
        "    #Determines if there is a root between a and b.\n",
        "    #f(a) * f(b) is negative\n",
        "    elif(f(bia)*f(bib)<0):\n",
        "      bicount += 1    #adds 1 to the count\n",
        "      if bicount == bimax:\n",
        "        return \"No roots; discontinuity.\", bicount\n",
        "      #Bisects the interval by finding the midpoint.\n",
        "      bic = (bia+bib)/2\n",
        "      #Determines if there is a root between a and the midpoint or the midpoint and b, then creates a new interval accordingly.\n",
        "      if(f(bia)*f(bic)<0):\n",
        "       bib = bic\n",
        "      else:\n",
        "       bia = bic\n",
        "    #If there are no roots between a and b.\n",
        "    #f(a) * f(b) is positive.\n",
        "    else:\n",
        "      return \"No roots between guesses.\", bicount\n",
        "  #Returns root and number of times looped to find the root.\n",
        "  return bia, bicount\n",
        "\n",
        "#Newton-Raphson Method\n",
        "#Input initial guess of x value nra and convergence criterion epsilon.\n",
        "#Form (nra, epsilon)\n",
        "#Output x value of root and number of iterations.\n",
        "#Form (root, number of iterations)\n",
        "#If there is more than one root in the graph, then the root that returns is the one nearest to the guess.\n",
        "'''\n",
        "Runs into issues if f'(nra) = 0:\n",
        "  If the root is 0, the returned value will not be exactly 0 unless the guess was 0.\n",
        "  If the root is not 0 and the guess is 0, it will return an error.\n",
        "'''\n",
        "def NewRaph(nra,nrepsilon):\n",
        "  nrcount = 0\n",
        "  # nrb = nra - (f(nra)/f'(nra)) function repeats until f(nra) >= epsilon\n",
        "  while(abs(f(nra)) >= nrepsilon):\n",
        "    nrcount += 1\n",
        "    nrb = nra - (f(nra)/df(nra))\n",
        "    nra = nrb\n",
        "  return nra, nrcount"
      ]
    }
  ]
}